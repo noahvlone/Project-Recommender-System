{
  "nbformat": 4,
  "nbformat_minor": 0,
  "metadata": {
    "colab": {
      "provenance": [],
      "authorship_tag": "ABX9TyOx32Xty06m5onvFK13AB8D",
      "include_colab_link": true
    },
    "kernelspec": {
      "name": "python3",
      "display_name": "Python 3"
    },
    "language_info": {
      "name": "python"
    }
  },
  "cells": [
    {
      "cell_type": "markdown",
      "metadata": {
        "id": "view-in-github",
        "colab_type": "text"
      },
      "source": [
        "<a href=\"https://colab.research.google.com/github/noahvlone/Project-Recommender-System/blob/main/recommender_system_project.ipynb\" target=\"_parent\"><img src=\"https://colab.research.google.com/assets/colab-badge.svg\" alt=\"Open In Colab\"/></a>"
      ]
    },
    {
      "cell_type": "markdown",
      "source": [
        "# Libraries"
      ],
      "metadata": {
        "id": "dNcyyHDblc4N"
      }
    },
    {
      "cell_type": "code",
      "execution_count": 1,
      "metadata": {
        "id": "haki-8Y2QbmR"
      },
      "outputs": [],
      "source": [
        "# Libraries\n",
        "import pandas as pd\n",
        "import numpy as np\n",
        "import matplotlib.pyplot as plt\n",
        "import seaborn as sns\n",
        "import pickle\n",
        "from sklearn.feature_extraction.text import TfidfVectorizer\n",
        "from sklearn.metrics.pairwise import cosine_similarity\n",
        "from sklearn.metrics import precision_score, recall_score\n",
        "from ast import literal_eval"
      ]
    },
    {
      "cell_type": "markdown",
      "source": [
        "# Data Load and Read Data"
      ],
      "metadata": {
        "id": "ekc4uFsMlgsu"
      }
    },
    {
      "cell_type": "code",
      "source": [
        "# Load data\n",
        "titles = pd.read_csv('/content/titles.csv')\n",
        "credits = pd.read_csv('/content/credits.csv')\n",
        "\n",
        "# Cek struktur data\n",
        "print(titles.info())\n",
        "print(credits.info())"
      ],
      "metadata": {
        "colab": {
          "base_uri": "https://localhost:8080/"
        },
        "id": "QOQKVGbaREHS",
        "outputId": "bb0689bc-d2d0-427f-9d12-ca998b1ee2bb"
      },
      "execution_count": 2,
      "outputs": [
        {
          "output_type": "stream",
          "name": "stdout",
          "text": [
            "<class 'pandas.core.frame.DataFrame'>\n",
            "RangeIndex: 5850 entries, 0 to 5849\n",
            "Data columns (total 15 columns):\n",
            " #   Column                Non-Null Count  Dtype  \n",
            "---  ------                --------------  -----  \n",
            " 0   id                    5850 non-null   object \n",
            " 1   title                 5849 non-null   object \n",
            " 2   type                  5850 non-null   object \n",
            " 3   description           5832 non-null   object \n",
            " 4   release_year          5850 non-null   int64  \n",
            " 5   age_certification     3231 non-null   object \n",
            " 6   runtime               5850 non-null   int64  \n",
            " 7   genres                5850 non-null   object \n",
            " 8   production_countries  5850 non-null   object \n",
            " 9   seasons               2106 non-null   float64\n",
            " 10  imdb_id               5447 non-null   object \n",
            " 11  imdb_score            5368 non-null   float64\n",
            " 12  imdb_votes            5352 non-null   float64\n",
            " 13  tmdb_popularity       5759 non-null   float64\n",
            " 14  tmdb_score            5539 non-null   float64\n",
            "dtypes: float64(5), int64(2), object(8)\n",
            "memory usage: 685.7+ KB\n",
            "None\n",
            "<class 'pandas.core.frame.DataFrame'>\n",
            "RangeIndex: 77801 entries, 0 to 77800\n",
            "Data columns (total 5 columns):\n",
            " #   Column     Non-Null Count  Dtype \n",
            "---  ------     --------------  ----- \n",
            " 0   person_id  77801 non-null  int64 \n",
            " 1   id         77801 non-null  object\n",
            " 2   name       77801 non-null  object\n",
            " 3   character  68029 non-null  object\n",
            " 4   role       77801 non-null  object\n",
            "dtypes: int64(1), object(4)\n",
            "memory usage: 3.0+ MB\n",
            "None\n"
          ]
        }
      ]
    },
    {
      "cell_type": "markdown",
      "source": [
        "# Data Cleaning/Preparation"
      ],
      "metadata": {
        "id": "qwP9VUGBmpT-"
      }
    },
    {
      "cell_type": "code",
      "source": [
        "# Data Cleaning\n",
        "print(\"\\n## Tahapan Data Cleaning\")\n",
        "\n",
        "def parse_genres(genre_str):\n",
        "    if isinstance(genre_str, str):\n",
        "        if pd.isna(genre_str) or genre_str == '[]':\n",
        "            return []\n",
        "        genres = genre_str.strip(\"[]\").replace(\"'\", \"\").replace('\"', \"\").split(',')\n",
        "        return [g.strip() for g in genres if g.strip() != '']\n",
        "    elif isinstance(genre_str, list):\n",
        "        return genre_str\n",
        "    else:\n",
        "        return []\n",
        "\n",
        "# Terapkan ke kolom genres\n",
        "titles['genres'] = titles['genres'].fillna('[]').apply(parse_genres)\n",
        "titles['description'] = titles['description'].fillna('')\n",
        "titles['imdb_score'] = titles['imdb_score'].fillna(0)\n",
        "\n",
        "# Filter hanya film (bukan TV Show)\n",
        "movies = titles[titles['type'] == 'MOVIE'].copy()\n",
        "\n",
        "# Ambil nama aktor dan direktor dari credits\n",
        "credits['role'] = credits['role'].str.upper()\n",
        "actors = credits[credits['role'] == 'ACTOR'].groupby('id')['name'].apply(list).reset_index()\n",
        "directors = credits[credits['role'] == 'DIRECTOR'].groupby('id')['name'].apply(list).reset_index()\n",
        "\n",
        "# Gabungkan data aktor dan direktor ke movies\n",
        "movies = movies.merge(actors, on='id', how='left').rename(columns={'name': 'actors'})\n",
        "movies = movies.merge(directors, on='id', how='left').rename(columns={'name': 'directors'})"
      ],
      "metadata": {
        "id": "9MH06bWPRx_M",
        "colab": {
          "base_uri": "https://localhost:8080/"
        },
        "outputId": "3da18e9d-b1dd-48ca-af2e-e6585bad6bdb"
      },
      "execution_count": 3,
      "outputs": [
        {
          "output_type": "stream",
          "name": "stdout",
          "text": [
            "\n",
            "## Tahapan Data Cleaning\n"
          ]
        }
      ]
    },
    {
      "cell_type": "markdown",
      "source": [
        "# Exploratory Data Analysis"
      ],
      "metadata": {
        "id": "JxEg8DFsmyY_"
      }
    },
    {
      "cell_type": "code",
      "source": [
        "# Distibusi Genre\n",
        "genres_count = movies['genres'].explode().value_counts()\n",
        "plt.figure(figsize=(12, 6))\n",
        "sns.barplot(x=genres_count.values, y=genres_count.index, palette='viridis')\n",
        "plt.title('Distibusi Genre Film')"
      ],
      "metadata": {
        "colab": {
          "base_uri": "https://localhost:8080/",
          "height": 632
        },
        "id": "bMlsh013Urnk",
        "outputId": "556e1c5c-ca2b-4edc-a1ab-17c7d0b4ff53"
      },
      "execution_count": 4,
      "outputs": [
        {
          "output_type": "stream",
          "name": "stderr",
          "text": [
            "<ipython-input-4-77d1647e93f2>:4: FutureWarning: \n",
            "\n",
            "Passing `palette` without assigning `hue` is deprecated and will be removed in v0.14.0. Assign the `y` variable to `hue` and set `legend=False` for the same effect.\n",
            "\n",
            "  sns.barplot(x=genres_count.values, y=genres_count.index, palette='viridis')\n"
          ]
        },
        {
          "output_type": "execute_result",
          "data": {
            "text/plain": [
              "Text(0.5, 1.0, 'Distibusi Genre Film')"
            ]
          },
          "metadata": {},
          "execution_count": 4
        },
        {
          "output_type": "display_data",
          "data": {
            "text/plain": [
              "<Figure size 1200x600 with 1 Axes>"
            ],
            "image/png": "[encoded data removed]"
          },
          "metadata": {}
        }
      ]
    },
    {
      "cell_type": "markdown",
      "source": [
        "**Insight:**\n",
        "\n",
        "- Genre drama adalah yang paling banyak muncul, diikuti oleh komedi.\n",
        "Hal ini mencerminkan bahwa industri film lebih banyak memproduksi film bergenre naratif emosional dan humor, kemungkinan karena permintaan pasar yang tinggi untuk hiburan yang relatable dan ringan.\n",
        "Thriller dan Action di Posisi Selanjutnya\n",
        "\n",
        "- Thriller dan action juga memiliki jumlah yang signifikan.\n",
        "Hal ini menunjukkan bahwa film yang penuh ketegangan dan aksi banyak diproduksi, kemungkinan karena daya tariknya terhadap audiens global, terutama dalam industri Hollywood dan film blockbuster.\n",
        "Romance dan Dokumenter Juga Cukup Populer\n",
        "\n",
        "- Film romance dan documentation memiliki jumlah yang lumayan besar, menunjukkan bahwa kisah percintaan dan dokumenter memiliki basis penonton yang stabil.\n",
        "Dokumenter yang berkembang bisa jadi mencerminkan peningkatan minat terhadap edukasi dan realita sosial dalam bentuk audiovisual.\n",
        "Genre Niche dengan Jumlah Lebih Sedikit\n",
        "\n",
        "- Genre seperti western, war, sport, dan reality memiliki jumlah yang sangat sedikit.\n",
        "Ini menunjukkan bahwa genre tersebut memiliki audiens yang lebih terbatas atau kurang populer di pasar global."
      ],
      "metadata": {
        "id": "-ID18vjRAFXe"
      }
    },
    {
      "cell_type": "markdown",
      "source": [
        "# Data Preprocessing/Preparation"
      ],
      "metadata": {
        "id": "kmwtB0Nmm-1J"
      }
    },
    {
      "cell_type": "markdown",
      "source": [
        "### Ekstraksi Features using TF-IDF"
      ],
      "metadata": {
        "id": "f7r7GpI1QDQj"
      }
    },
    {
      "cell_type": "code",
      "source": [
        "# Data Preprocessing\n",
        "movies['actors'] = movies['actors'].fillna('').apply(lambda x: ' '.join(x) if isinstance(x, list) else '')\n",
        "movies['directors'] = movies['directors'].fillna('').apply(lambda x: ' '.join(x) if isinstance(x, list) else '')\n",
        "movies['features'] = (\n",
        "    movies['genres'].astype(str) + ' ' +\n",
        "    movies['description'] + ' ' +\n",
        "    movies['actors'] + ' ' +\n",
        "    movies['directors']\n",
        ")\n",
        "\n",
        "# TF-IDF Vectorization\n",
        "print(\"\\n## Tahapan Ekstraksi Fitur dengan TF-IDF\")\n",
        "tfidf = TfidfVectorizer(stop_words='english', max_features=5000)\n",
        "tfidf_matrix = tfidf.fit_transform(movies['features'])"
      ],
      "metadata": {
        "colab": {
          "base_uri": "https://localhost:8080/"
        },
        "id": "87l_ARZAWHNO",
        "outputId": "d73a30c6-2269-441a-ed70-12fcfc5bad65"
      },
      "execution_count": 5,
      "outputs": [
        {
          "output_type": "stream",
          "name": "stdout",
          "text": [
            "\n",
            "## Tahapan Ekstraksi Fitur dengan TF-IDF\n"
          ]
        }
      ]
    },
    {
      "cell_type": "markdown",
      "source": [
        "# Model Development (Content Based-Filtering)"
      ],
      "metadata": {
        "id": "xtl0L5qknJLF"
      }
    },
    {
      "cell_type": "markdown",
      "source": [
        "### Hitung Similarity Matrix & Buat Fungsi Rekomendasi"
      ],
      "metadata": {
        "id": "pjfo3cHpvyEt"
      }
    },
    {
      "cell_type": "code",
      "source": [
        "# Hitung Cosine Similarity\n",
        "cosine_sim = cosine_similarity(tfidf_matrix, tfidf_matrix)\n",
        "\n",
        "# Recommendation Function\n",
        "def get_recommendations(title, top_n=10):\n",
        "    try:\n",
        "        idx = movies[movies['title'] == title].index[0]\n",
        "        sim_scores = list(enumerate(cosine_sim[idx]))\n",
        "        sim_scores = sorted(sim_scores, key=lambda x: x[1], reverse=True)\n",
        "        sim_indices = [i[0] for i in sim_scores[1:top_n+1]]\n",
        "        recommendations = movies.iloc[sim_indices][['title', 'genres', 'imdb_score', 'actors', 'directors']]\n",
        "        recommendations['similarity_score'] = [i[1] for i in sim_scores[1:top_n+1]]\n",
        "        return recommendations\n",
        "    except:\n",
        "        return 'Film tidak ditemukan dalam database'"
      ],
      "metadata": {
        "id": "m8Zk45T2XnVR"
      },
      "execution_count": 6,
      "outputs": []
    },
    {
      "cell_type": "markdown",
      "source": [
        "# Evaluasi Model"
      ],
      "metadata": {
        "id": "bUO_UB1Knpg5"
      }
    },
    {
      "cell_type": "markdown",
      "source": [
        "### Evaluasi Kualitas Rekomendasi"
      ],
      "metadata": {
        "id": "W-X7THecrGlx"
      }
    },
    {
      "cell_type": "code",
      "source": [
        "# Example Evaluation\n",
        "print(\"\\nHasil Rekomendasi\")\n",
        "recommendations = get_recommendations('Naruto Shippuden the Movie', top_n=10)\n",
        "\n",
        "# Markdown Table\n",
        "print(\"\\nHasil Rekomendasi untuk 'Naruto Shippuden the Movie':\")\n",
        "print(recommendations[['title', 'genres', 'imdb_score', 'directors', 'similarity_score']].to_markdown())"
      ],
      "metadata": {
        "colab": {
          "base_uri": "https://localhost:8080/"
        },
        "id": "tNyrAkik-B9R",
        "outputId": "9b25bc7b-8ef4-4240-9ea3-f52eb9baae29"
      },
      "execution_count": 7,
      "outputs": [
        {
          "output_type": "stream",
          "name": "stdout",
          "text": [
            "\n",
            "Hasil Rekomendasi\n",
            "\n",
            "Hasil Rekomendasi untuk 'Naruto Shippuden the Movie':\n",
            "|      | title                                               | genres                                                             |   imdb_score | directors          |   similarity_score |\n",
            "|-----:|:----------------------------------------------------|:-------------------------------------------------------------------|-------------:|:-------------------|-------------------:|\n",
            "|  322 | Naruto Shippuden the Movie: The Lost Tower          | ['animation', 'action', 'fantasy']                                 |          6.8 | Masahiko Murata    |           0.388594 |\n",
            "|  330 | Naruto Shippuden the Movie: The Will of Fire        | ['action', 'comedy', 'drama', 'fantasy', 'animation']              |          7   | Masahiko Murata    |           0.354237 |\n",
            "|  537 | Naruto Shippuden the Movie: Blood Prison            | ['action', 'comedy', 'horror', 'thriller', 'animation', 'fantasy'] |          7.1 | Masahiko Murata    |           0.34708  |\n",
            "|  374 | Naruto: Legend of the Stone of Gelel                | ['fantasy', 'action', 'comedy', 'drama', 'animation']              |          6.4 | Hirotsugu Kawasaki |           0.341813 |\n",
            "|  327 | Naruto Shippuden the Movie: Bonds                   | ['fantasy', 'animation', 'action']                                 |          6.8 | Hajime Kamegaki    |           0.319265 |\n",
            "|  350 | Naruto: Ninja Clash in the Land of Snow             | ['comedy', 'fantasy', 'animation', 'action']                       |          6.6 | Tensai Okamura     |           0.298041 |\n",
            "|  358 | Naruto: Guardians of the Crescent Moon Kingdom      | ['action', 'animation']                                            |          6.4 | Toshiyuki Tsuru    |           0.259924 |\n",
            "| 3418 | The Seven Deadly Sins: Cursed by Light              | ['animation', 'fantasy', 'action']                                 |          6.4 | Takayuki Hamana    |           0.212997 |\n",
            "|  304 | Inuyasha the Movie: Affections Touching Across Time | ['action', 'animation', 'fantasy']                                 |          7.2 | Toshiya Shinohara  |           0.157084 |\n",
            "|  386 | Inuyasha the Movie 3: Swords of an Honorable Ruler  | ['animation', 'fantasy', 'action', 'thriller']                     |          7.6 | Toshiya Shinohara  |           0.142428 |\n"
          ]
        }
      ]
    },
    {
      "cell_type": "code",
      "source": [
        "# Evaluation Metrics\n",
        "def evaluate_recommendations(target_title, k=10):\n",
        "    target_idx = movies[movies['title'] == target_title].index[0]\n",
        "    sim_scores = list(enumerate(cosine_sim[target_idx]))\n",
        "    sim_scores = sorted(sim_scores, key=lambda x: x[1], reverse=True)\n",
        "    sim_indices = [i[0] for i in sim_scores[1:k+1]]\n",
        "    target_genres = set(movies.iloc[target_idx]['genres'])\n",
        "\n",
        "    precision = 0\n",
        "    recall = 0\n",
        "    relevant_count = 0\n",
        "\n",
        "    for idx in sim_indices:\n",
        "        recommended_genres = set(movies.iloc[idx]['genres'])\n",
        "        if target_genres.intersection(recommended_genres):\n",
        "            relevant_count += 1\n",
        "\n",
        "    precision = relevant_count / k if k else 0\n",
        "    recall = relevant_count / len(target_genres) if target_genres else 0\n",
        "\n",
        "    return {'precision@k': precision, 'recall@k': recall}\n"
      ],
      "metadata": {
        "id": "INAYHtKw-R1H"
      },
      "execution_count": 8,
      "outputs": []
    },
    {
      "cell_type": "code",
      "source": [
        "# Evaluasi untuk film 'The Platform'\n",
        "metrics = evaluate_recommendations('Naruto Shippuden the Movie', k=10)\n",
        "print(\"\\nEvaluasi Rekomendasi:\")\n",
        "print(f\"Precision@10: {metrics['precision@k']:.2f}\")\n",
        "print(f\"Recall@10: {metrics['recall@k']:.2f}\")"
      ],
      "metadata": {
        "colab": {
          "base_uri": "https://localhost:8080/"
        },
        "id": "gjL2--Wz-VyW",
        "outputId": "b741eb75-373e-4a62-b05a-69c603485a4e"
      },
      "execution_count": 9,
      "outputs": [
        {
          "output_type": "stream",
          "name": "stdout",
          "text": [
            "\n",
            "Evaluasi Rekomendasi:\n",
            "Precision@10: 1.00\n",
            "Recall@10: 2.50\n"
          ]
        }
      ]
    },
    {
      "cell_type": "markdown",
      "source": [
        "# Save Model"
      ],
      "metadata": {
        "id": "wafF2GbTzMbn"
      }
    },
    {
      "cell_type": "code",
      "source": [
        "pickle.dump(tfidf, open('tfidf_model.pkl', 'wb'))\n",
        "pickle.dump(cosine_sim, open('cosine_sim.pkl', 'wb'))"
      ],
      "metadata": {
        "id": "3Ti9okK8kwvt"
      },
      "execution_count": 10,
      "outputs": []
    }
  ]
}